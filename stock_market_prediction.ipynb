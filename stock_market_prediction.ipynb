{
  "nbformat": 4,
  "nbformat_minor": 0,
  "metadata": {
    "colab": {
      "provenance": []
    },
    "kernelspec": {
      "name": "python3",
      "display_name": "Python 3"
    },
    "language_info": {
      "name": "python"
    }
  },
  "cells": [
    {
      "cell_type": "code",
      "source": [
        "#Import necessary Libraries\n",
        "import pandas as pd\n",
        "import numpy as np\n",
        "import math\n",
        "import matplotlib.pyplot as plt\n",
        "from sklearn.preprocessing import MinMaxScaler\n",
        "from sklearn.metrics import mean_squared_error\n",
        "import tensorflow as tf\n",
        "from tensorflow.python.keras.models import Sequential\n",
        "from tensorflow.python.keras.layers import Dense\n",
        "from tensorflow.python.keras.layers import LSTM\n",
        "%matplotlib inline"
      ],
      "metadata": {
        "id": "v9lWKJ7zTv8q"
      },
      "execution_count": 28,
      "outputs": []
    },
    {
      "cell_type": "code",
      "source": [
        "#Import the data and remove rows containing NAN values\n",
        "df = pd.read_csv('https://raw.githubusercontent.com/mwitiderrick/stockprice/master/NSE-TATAGLOBAL.csv')\n",
        "df = df.dropna()\n",
        "df.head()"
      ],
      "metadata": {
        "colab": {
          "base_uri": "https://localhost:8080/",
          "height": 206
        },
        "id": "FCorDZFnTxcZ",
        "outputId": "d40f82e3-2377-4731-e7ac-04f5b35284b4"
      },
      "execution_count": 29,
      "outputs": [
        {
          "output_type": "execute_result",
          "data": {
            "text/plain": [
              "         Date    Open    High     Low    Last   Close  Total Trade Quantity  \\\n",
              "0  2018-09-28  234.05  235.95  230.20  233.50  233.75               3069914   \n",
              "1  2018-09-27  234.55  236.80  231.10  233.80  233.25               5082859   \n",
              "2  2018-09-26  240.00  240.00  232.50  235.00  234.25               2240909   \n",
              "3  2018-09-25  233.30  236.75  232.00  236.25  236.10               2349368   \n",
              "4  2018-09-24  233.55  239.20  230.75  234.00  233.30               3423509   \n",
              "\n",
              "   Turnover (Lacs)  \n",
              "0          7162.35  \n",
              "1         11859.95  \n",
              "2          5248.60  \n",
              "3          5503.90  \n",
              "4          7999.55  "
            ],
            "text/html": [
              "\n",
              "  <div id=\"df-91098754-ebc8-4a1e-8887-6090c9e45aeb\" class=\"colab-df-container\">\n",
              "    <div>\n",
              "<style scoped>\n",
              "    .dataframe tbody tr th:only-of-type {\n",
              "        vertical-align: middle;\n",
              "    }\n",
              "\n",
              "    .dataframe tbody tr th {\n",
              "        vertical-align: top;\n",
              "    }\n",
              "\n",
              "    .dataframe thead th {\n",
              "        text-align: right;\n",
              "    }\n",
              "</style>\n",
              "<table border=\"1\" class=\"dataframe\">\n",
              "  <thead>\n",
              "    <tr style=\"text-align: right;\">\n",
              "      <th></th>\n",
              "      <th>Date</th>\n",
              "      <th>Open</th>\n",
              "      <th>High</th>\n",
              "      <th>Low</th>\n",
              "      <th>Last</th>\n",
              "      <th>Close</th>\n",
              "      <th>Total Trade Quantity</th>\n",
              "      <th>Turnover (Lacs)</th>\n",
              "    </tr>\n",
              "  </thead>\n",
              "  <tbody>\n",
              "    <tr>\n",
              "      <th>0</th>\n",
              "      <td>2018-09-28</td>\n",
              "      <td>234.05</td>\n",
              "      <td>235.95</td>\n",
              "      <td>230.20</td>\n",
              "      <td>233.50</td>\n",
              "      <td>233.75</td>\n",
              "      <td>3069914</td>\n",
              "      <td>7162.35</td>\n",
              "    </tr>\n",
              "    <tr>\n",
              "      <th>1</th>\n",
              "      <td>2018-09-27</td>\n",
              "      <td>234.55</td>\n",
              "      <td>236.80</td>\n",
              "      <td>231.10</td>\n",
              "      <td>233.80</td>\n",
              "      <td>233.25</td>\n",
              "      <td>5082859</td>\n",
              "      <td>11859.95</td>\n",
              "    </tr>\n",
              "    <tr>\n",
              "      <th>2</th>\n",
              "      <td>2018-09-26</td>\n",
              "      <td>240.00</td>\n",
              "      <td>240.00</td>\n",
              "      <td>232.50</td>\n",
              "      <td>235.00</td>\n",
              "      <td>234.25</td>\n",
              "      <td>2240909</td>\n",
              "      <td>5248.60</td>\n",
              "    </tr>\n",
              "    <tr>\n",
              "      <th>3</th>\n",
              "      <td>2018-09-25</td>\n",
              "      <td>233.30</td>\n",
              "      <td>236.75</td>\n",
              "      <td>232.00</td>\n",
              "      <td>236.25</td>\n",
              "      <td>236.10</td>\n",
              "      <td>2349368</td>\n",
              "      <td>5503.90</td>\n",
              "    </tr>\n",
              "    <tr>\n",
              "      <th>4</th>\n",
              "      <td>2018-09-24</td>\n",
              "      <td>233.55</td>\n",
              "      <td>239.20</td>\n",
              "      <td>230.75</td>\n",
              "      <td>234.00</td>\n",
              "      <td>233.30</td>\n",
              "      <td>3423509</td>\n",
              "      <td>7999.55</td>\n",
              "    </tr>\n",
              "  </tbody>\n",
              "</table>\n",
              "</div>\n",
              "    <div class=\"colab-df-buttons\">\n",
              "\n",
              "  <div class=\"colab-df-container\">\n",
              "    <button class=\"colab-df-convert\" onclick=\"convertToInteractive('df-91098754-ebc8-4a1e-8887-6090c9e45aeb')\"\n",
              "            title=\"Convert this dataframe to an interactive table.\"\n",
              "            style=\"display:none;\">\n",
              "\n",
              "  <svg xmlns=\"http://www.w3.org/2000/svg\" height=\"24px\" viewBox=\"0 -960 960 960\">\n",
              "    <path d=\"M120-120v-720h720v720H120Zm60-500h600v-160H180v160Zm220 220h160v-160H400v160Zm0 220h160v-160H400v160ZM180-400h160v-160H180v160Zm440 0h160v-160H620v160ZM180-180h160v-160H180v160Zm440 0h160v-160H620v160Z\"/>\n",
              "  </svg>\n",
              "    </button>\n",
              "\n",
              "  <style>\n",
              "    .colab-df-container {\n",
              "      display:flex;\n",
              "      gap: 12px;\n",
              "    }\n",
              "\n",
              "    .colab-df-convert {\n",
              "      background-color: #E8F0FE;\n",
              "      border: none;\n",
              "      border-radius: 50%;\n",
              "      cursor: pointer;\n",
              "      display: none;\n",
              "      fill: #1967D2;\n",
              "      height: 32px;\n",
              "      padding: 0 0 0 0;\n",
              "      width: 32px;\n",
              "    }\n",
              "\n",
              "    .colab-df-convert:hover {\n",
              "      background-color: #E2EBFA;\n",
              "      box-shadow: 0px 1px 2px rgba(60, 64, 67, 0.3), 0px 1px 3px 1px rgba(60, 64, 67, 0.15);\n",
              "      fill: #174EA6;\n",
              "    }\n",
              "\n",
              "    .colab-df-buttons div {\n",
              "      margin-bottom: 4px;\n",
              "    }\n",
              "\n",
              "    [theme=dark] .colab-df-convert {\n",
              "      background-color: #3B4455;\n",
              "      fill: #D2E3FC;\n",
              "    }\n",
              "\n",
              "    [theme=dark] .colab-df-convert:hover {\n",
              "      background-color: #434B5C;\n",
              "      box-shadow: 0px 1px 3px 1px rgba(0, 0, 0, 0.15);\n",
              "      filter: drop-shadow(0px 1px 2px rgba(0, 0, 0, 0.3));\n",
              "      fill: #FFFFFF;\n",
              "    }\n",
              "  </style>\n",
              "\n",
              "    <script>\n",
              "      const buttonEl =\n",
              "        document.querySelector('#df-91098754-ebc8-4a1e-8887-6090c9e45aeb button.colab-df-convert');\n",
              "      buttonEl.style.display =\n",
              "        google.colab.kernel.accessAllowed ? 'block' : 'none';\n",
              "\n",
              "      async function convertToInteractive(key) {\n",
              "        const element = document.querySelector('#df-91098754-ebc8-4a1e-8887-6090c9e45aeb');\n",
              "        const dataTable =\n",
              "          await google.colab.kernel.invokeFunction('convertToInteractive',\n",
              "                                                    [key], {});\n",
              "        if (!dataTable) return;\n",
              "\n",
              "        const docLinkHtml = 'Like what you see? Visit the ' +\n",
              "          '<a target=\"_blank\" href=https://colab.research.google.com/notebooks/data_table.ipynb>data table notebook</a>'\n",
              "          + ' to learn more about interactive tables.';\n",
              "        element.innerHTML = '';\n",
              "        dataTable['output_type'] = 'display_data';\n",
              "        await google.colab.output.renderOutput(dataTable, element);\n",
              "        const docLink = document.createElement('div');\n",
              "        docLink.innerHTML = docLinkHtml;\n",
              "        element.appendChild(docLink);\n",
              "      }\n",
              "    </script>\n",
              "  </div>\n",
              "\n",
              "\n",
              "<div id=\"df-6346af2e-24a5-4b6f-b8d5-8d5a3f8990c8\">\n",
              "  <button class=\"colab-df-quickchart\" onclick=\"quickchart('df-6346af2e-24a5-4b6f-b8d5-8d5a3f8990c8')\"\n",
              "            title=\"Suggest charts.\"\n",
              "            style=\"display:none;\">\n",
              "\n",
              "<svg xmlns=\"http://www.w3.org/2000/svg\" height=\"24px\"viewBox=\"0 0 24 24\"\n",
              "     width=\"24px\">\n",
              "    <g>\n",
              "        <path d=\"M19 3H5c-1.1 0-2 .9-2 2v14c0 1.1.9 2 2 2h14c1.1 0 2-.9 2-2V5c0-1.1-.9-2-2-2zM9 17H7v-7h2v7zm4 0h-2V7h2v10zm4 0h-2v-4h2v4z\"/>\n",
              "    </g>\n",
              "</svg>\n",
              "  </button>\n",
              "\n",
              "<style>\n",
              "  .colab-df-quickchart {\n",
              "    background-color: #E8F0FE;\n",
              "    border: none;\n",
              "    border-radius: 50%;\n",
              "    cursor: pointer;\n",
              "    display: none;\n",
              "    fill: #1967D2;\n",
              "    height: 32px;\n",
              "    padding: 0 0 0 0;\n",
              "    width: 32px;\n",
              "  }\n",
              "\n",
              "  .colab-df-quickchart:hover {\n",
              "    background-color: #E2EBFA;\n",
              "    box-shadow: 0px 1px 2px rgba(60, 64, 67, 0.3), 0px 1px 3px 1px rgba(60, 64, 67, 0.15);\n",
              "    fill: #174EA6;\n",
              "  }\n",
              "\n",
              "  [theme=dark] .colab-df-quickchart {\n",
              "    background-color: #3B4455;\n",
              "    fill: #D2E3FC;\n",
              "  }\n",
              "\n",
              "  [theme=dark] .colab-df-quickchart:hover {\n",
              "    background-color: #434B5C;\n",
              "    box-shadow: 0px 1px 3px 1px rgba(0, 0, 0, 0.15);\n",
              "    filter: drop-shadow(0px 1px 2px rgba(0, 0, 0, 0.3));\n",
              "    fill: #FFFFFF;\n",
              "  }\n",
              "</style>\n",
              "\n",
              "  <script>\n",
              "    async function quickchart(key) {\n",
              "      const charts = await google.colab.kernel.invokeFunction(\n",
              "          'suggestCharts', [key], {});\n",
              "    }\n",
              "    (() => {\n",
              "      let quickchartButtonEl =\n",
              "        document.querySelector('#df-6346af2e-24a5-4b6f-b8d5-8d5a3f8990c8 button');\n",
              "      quickchartButtonEl.style.display =\n",
              "        google.colab.kernel.accessAllowed ? 'block' : 'none';\n",
              "    })();\n",
              "  </script>\n",
              "</div>\n",
              "    </div>\n",
              "  </div>\n"
            ]
          },
          "metadata": {},
          "execution_count": 29
        }
      ]
    },
    {
      "cell_type": "code",
      "source": [
        "df.tail()\n"
      ],
      "metadata": {
        "colab": {
          "base_uri": "https://localhost:8080/",
          "height": 206
        },
        "id": "pEXZcYnWTxfR",
        "outputId": "850febdf-a71a-4e9a-92a8-bd5d8fa286ae"
      },
      "execution_count": 30,
      "outputs": [
        {
          "output_type": "execute_result",
          "data": {
            "text/plain": [
              "            Date   Open    High     Low    Last   Close  Total Trade Quantity  \\\n",
              "2030  2010-07-27  117.6  119.50  112.00  118.80  118.65                586100   \n",
              "2031  2010-07-26  120.1  121.00  117.10  117.10  117.60                658440   \n",
              "2032  2010-07-23  121.8  121.95  120.25  120.35  120.65                281312   \n",
              "2033  2010-07-22  120.3  122.00  120.25  120.75  120.90                293312   \n",
              "2034  2010-07-21  122.1  123.00  121.05  121.10  121.55                658666   \n",
              "\n",
              "      Turnover (Lacs)  \n",
              "2030           694.98  \n",
              "2031           780.01  \n",
              "2032           340.31  \n",
              "2033           355.17  \n",
              "2034           803.56  "
            ],
            "text/html": [
              "\n",
              "  <div id=\"df-d54fac91-5418-4e18-9f55-58c167b13037\" class=\"colab-df-container\">\n",
              "    <div>\n",
              "<style scoped>\n",
              "    .dataframe tbody tr th:only-of-type {\n",
              "        vertical-align: middle;\n",
              "    }\n",
              "\n",
              "    .dataframe tbody tr th {\n",
              "        vertical-align: top;\n",
              "    }\n",
              "\n",
              "    .dataframe thead th {\n",
              "        text-align: right;\n",
              "    }\n",
              "</style>\n",
              "<table border=\"1\" class=\"dataframe\">\n",
              "  <thead>\n",
              "    <tr style=\"text-align: right;\">\n",
              "      <th></th>\n",
              "      <th>Date</th>\n",
              "      <th>Open</th>\n",
              "      <th>High</th>\n",
              "      <th>Low</th>\n",
              "      <th>Last</th>\n",
              "      <th>Close</th>\n",
              "      <th>Total Trade Quantity</th>\n",
              "      <th>Turnover (Lacs)</th>\n",
              "    </tr>\n",
              "  </thead>\n",
              "  <tbody>\n",
              "    <tr>\n",
              "      <th>2030</th>\n",
              "      <td>2010-07-27</td>\n",
              "      <td>117.6</td>\n",
              "      <td>119.50</td>\n",
              "      <td>112.00</td>\n",
              "      <td>118.80</td>\n",
              "      <td>118.65</td>\n",
              "      <td>586100</td>\n",
              "      <td>694.98</td>\n",
              "    </tr>\n",
              "    <tr>\n",
              "      <th>2031</th>\n",
              "      <td>2010-07-26</td>\n",
              "      <td>120.1</td>\n",
              "      <td>121.00</td>\n",
              "      <td>117.10</td>\n",
              "      <td>117.10</td>\n",
              "      <td>117.60</td>\n",
              "      <td>658440</td>\n",
              "      <td>780.01</td>\n",
              "    </tr>\n",
              "    <tr>\n",
              "      <th>2032</th>\n",
              "      <td>2010-07-23</td>\n",
              "      <td>121.8</td>\n",
              "      <td>121.95</td>\n",
              "      <td>120.25</td>\n",
              "      <td>120.35</td>\n",
              "      <td>120.65</td>\n",
              "      <td>281312</td>\n",
              "      <td>340.31</td>\n",
              "    </tr>\n",
              "    <tr>\n",
              "      <th>2033</th>\n",
              "      <td>2010-07-22</td>\n",
              "      <td>120.3</td>\n",
              "      <td>122.00</td>\n",
              "      <td>120.25</td>\n",
              "      <td>120.75</td>\n",
              "      <td>120.90</td>\n",
              "      <td>293312</td>\n",
              "      <td>355.17</td>\n",
              "    </tr>\n",
              "    <tr>\n",
              "      <th>2034</th>\n",
              "      <td>2010-07-21</td>\n",
              "      <td>122.1</td>\n",
              "      <td>123.00</td>\n",
              "      <td>121.05</td>\n",
              "      <td>121.10</td>\n",
              "      <td>121.55</td>\n",
              "      <td>658666</td>\n",
              "      <td>803.56</td>\n",
              "    </tr>\n",
              "  </tbody>\n",
              "</table>\n",
              "</div>\n",
              "    <div class=\"colab-df-buttons\">\n",
              "\n",
              "  <div class=\"colab-df-container\">\n",
              "    <button class=\"colab-df-convert\" onclick=\"convertToInteractive('df-d54fac91-5418-4e18-9f55-58c167b13037')\"\n",
              "            title=\"Convert this dataframe to an interactive table.\"\n",
              "            style=\"display:none;\">\n",
              "\n",
              "  <svg xmlns=\"http://www.w3.org/2000/svg\" height=\"24px\" viewBox=\"0 -960 960 960\">\n",
              "    <path d=\"M120-120v-720h720v720H120Zm60-500h600v-160H180v160Zm220 220h160v-160H400v160Zm0 220h160v-160H400v160ZM180-400h160v-160H180v160Zm440 0h160v-160H620v160ZM180-180h160v-160H180v160Zm440 0h160v-160H620v160Z\"/>\n",
              "  </svg>\n",
              "    </button>\n",
              "\n",
              "  <style>\n",
              "    .colab-df-container {\n",
              "      display:flex;\n",
              "      gap: 12px;\n",
              "    }\n",
              "\n",
              "    .colab-df-convert {\n",
              "      background-color: #E8F0FE;\n",
              "      border: none;\n",
              "      border-radius: 50%;\n",
              "      cursor: pointer;\n",
              "      display: none;\n",
              "      fill: #1967D2;\n",
              "      height: 32px;\n",
              "      padding: 0 0 0 0;\n",
              "      width: 32px;\n",
              "    }\n",
              "\n",
              "    .colab-df-convert:hover {\n",
              "      background-color: #E2EBFA;\n",
              "      box-shadow: 0px 1px 2px rgba(60, 64, 67, 0.3), 0px 1px 3px 1px rgba(60, 64, 67, 0.15);\n",
              "      fill: #174EA6;\n",
              "    }\n",
              "\n",
              "    .colab-df-buttons div {\n",
              "      margin-bottom: 4px;\n",
              "    }\n",
              "\n",
              "    [theme=dark] .colab-df-convert {\n",
              "      background-color: #3B4455;\n",
              "      fill: #D2E3FC;\n",
              "    }\n",
              "\n",
              "    [theme=dark] .colab-df-convert:hover {\n",
              "      background-color: #434B5C;\n",
              "      box-shadow: 0px 1px 3px 1px rgba(0, 0, 0, 0.15);\n",
              "      filter: drop-shadow(0px 1px 2px rgba(0, 0, 0, 0.3));\n",
              "      fill: #FFFFFF;\n",
              "    }\n",
              "  </style>\n",
              "\n",
              "    <script>\n",
              "      const buttonEl =\n",
              "        document.querySelector('#df-d54fac91-5418-4e18-9f55-58c167b13037 button.colab-df-convert');\n",
              "      buttonEl.style.display =\n",
              "        google.colab.kernel.accessAllowed ? 'block' : 'none';\n",
              "\n",
              "      async function convertToInteractive(key) {\n",
              "        const element = document.querySelector('#df-d54fac91-5418-4e18-9f55-58c167b13037');\n",
              "        const dataTable =\n",
              "          await google.colab.kernel.invokeFunction('convertToInteractive',\n",
              "                                                    [key], {});\n",
              "        if (!dataTable) return;\n",
              "\n",
              "        const docLinkHtml = 'Like what you see? Visit the ' +\n",
              "          '<a target=\"_blank\" href=https://colab.research.google.com/notebooks/data_table.ipynb>data table notebook</a>'\n",
              "          + ' to learn more about interactive tables.';\n",
              "        element.innerHTML = '';\n",
              "        dataTable['output_type'] = 'display_data';\n",
              "        await google.colab.output.renderOutput(dataTable, element);\n",
              "        const docLink = document.createElement('div');\n",
              "        docLink.innerHTML = docLinkHtml;\n",
              "        element.appendChild(docLink);\n",
              "      }\n",
              "    </script>\n",
              "  </div>\n",
              "\n",
              "\n",
              "<div id=\"df-1a102976-d7e6-40b1-b19b-66456f09b303\">\n",
              "  <button class=\"colab-df-quickchart\" onclick=\"quickchart('df-1a102976-d7e6-40b1-b19b-66456f09b303')\"\n",
              "            title=\"Suggest charts.\"\n",
              "            style=\"display:none;\">\n",
              "\n",
              "<svg xmlns=\"http://www.w3.org/2000/svg\" height=\"24px\"viewBox=\"0 0 24 24\"\n",
              "     width=\"24px\">\n",
              "    <g>\n",
              "        <path d=\"M19 3H5c-1.1 0-2 .9-2 2v14c0 1.1.9 2 2 2h14c1.1 0 2-.9 2-2V5c0-1.1-.9-2-2-2zM9 17H7v-7h2v7zm4 0h-2V7h2v10zm4 0h-2v-4h2v4z\"/>\n",
              "    </g>\n",
              "</svg>\n",
              "  </button>\n",
              "\n",
              "<style>\n",
              "  .colab-df-quickchart {\n",
              "    background-color: #E8F0FE;\n",
              "    border: none;\n",
              "    border-radius: 50%;\n",
              "    cursor: pointer;\n",
              "    display: none;\n",
              "    fill: #1967D2;\n",
              "    height: 32px;\n",
              "    padding: 0 0 0 0;\n",
              "    width: 32px;\n",
              "  }\n",
              "\n",
              "  .colab-df-quickchart:hover {\n",
              "    background-color: #E2EBFA;\n",
              "    box-shadow: 0px 1px 2px rgba(60, 64, 67, 0.3), 0px 1px 3px 1px rgba(60, 64, 67, 0.15);\n",
              "    fill: #174EA6;\n",
              "  }\n",
              "\n",
              "  [theme=dark] .colab-df-quickchart {\n",
              "    background-color: #3B4455;\n",
              "    fill: #D2E3FC;\n",
              "  }\n",
              "\n",
              "  [theme=dark] .colab-df-quickchart:hover {\n",
              "    background-color: #434B5C;\n",
              "    box-shadow: 0px 1px 3px 1px rgba(0, 0, 0, 0.15);\n",
              "    filter: drop-shadow(0px 1px 2px rgba(0, 0, 0, 0.3));\n",
              "    fill: #FFFFFF;\n",
              "  }\n",
              "</style>\n",
              "\n",
              "  <script>\n",
              "    async function quickchart(key) {\n",
              "      const charts = await google.colab.kernel.invokeFunction(\n",
              "          'suggestCharts', [key], {});\n",
              "    }\n",
              "    (() => {\n",
              "      let quickchartButtonEl =\n",
              "        document.querySelector('#df-1a102976-d7e6-40b1-b19b-66456f09b303 button');\n",
              "      quickchartButtonEl.style.display =\n",
              "        google.colab.kernel.accessAllowed ? 'block' : 'none';\n",
              "    })();\n",
              "  </script>\n",
              "</div>\n",
              "    </div>\n",
              "  </div>\n"
            ]
          },
          "metadata": {},
          "execution_count": 30
        }
      ]
    },
    {
      "cell_type": "code",
      "source": [
        "df_close = df['Close']"
      ],
      "metadata": {
        "id": "lCxljPzMTxix"
      },
      "execution_count": 14,
      "outputs": []
    },
    {
      "cell_type": "code",
      "source": [
        "df_close.shape"
      ],
      "metadata": {
        "colab": {
          "base_uri": "https://localhost:8080/"
        },
        "id": "a3SEonihU2Mz",
        "outputId": "48867569-59c7-4371-c2a7-f175d0bee7ea"
      },
      "execution_count": 15,
      "outputs": [
        {
          "output_type": "execute_result",
          "data": {
            "text/plain": [
              "(2035,)"
            ]
          },
          "metadata": {},
          "execution_count": 15
        }
      ]
    },
    {
      "cell_type": "code",
      "source": [
        "plt.plot(df_close)"
      ],
      "metadata": {
        "colab": {
          "base_uri": "https://localhost:8080/",
          "height": 447
        },
        "id": "aFNhE8Q7U2Po",
        "outputId": "c5da9955-8661-44b1-e4dd-03045edfdbc6"
      },
      "execution_count": 16,
      "outputs": [
        {
          "output_type": "execute_result",
          "data": {
            "text/plain": [
              "[<matplotlib.lines.Line2D at 0x7ed2fb525480>]"
            ]
          },
          "metadata": {},
          "execution_count": 16
        },
        {
          "output_type": "display_data",
          "data": {
            "text/plain": [
              "<Figure size 640x480 with 1 Axes>"
            ],
            "image/png": "[encoded data removed]"
          },
          "metadata": {}
        }
      ]
    },
    {
      "cell_type": "code",
      "source": [
        "scaler = MinMaxScaler(feature_range = (0,1))\n",
        "df_close = scaler.fit_transform(np.array(df_close).reshape(-1,1))"
      ],
      "metadata": {
        "id": "riRcXBZBU2Rx"
      },
      "execution_count": 17,
      "outputs": []
    },
    {
      "cell_type": "code",
      "source": [
        "df_close.shape\n"
      ],
      "metadata": {
        "colab": {
          "base_uri": "https://localhost:8080/"
        },
        "id": "MWdv8dvsU2VN",
        "outputId": "b07514a9-8a6e-4c22-cd5e-d00579f5ec59"
      },
      "execution_count": 18,
      "outputs": [
        {
          "output_type": "execute_result",
          "data": {
            "text/plain": [
              "(2035, 1)"
            ]
          },
          "metadata": {},
          "execution_count": 18
        }
      ]
    },
    {
      "cell_type": "code",
      "source": [
        "df_close"
      ],
      "metadata": {
        "colab": {
          "base_uri": "https://localhost:8080/"
        },
        "id": "bYFJNPTHVDIe",
        "outputId": "0ce48061-2443-437d-a065-c63e99818385"
      },
      "execution_count": 19,
      "outputs": [
        {
          "output_type": "execute_result",
          "data": {
            "text/plain": [
              "array([[0.62418301],\n",
              "       [0.62214052],\n",
              "       [0.62622549],\n",
              "       ...,\n",
              "       [0.1621732 ],\n",
              "       [0.16319444],\n",
              "       [0.16584967]])"
            ]
          },
          "metadata": {},
          "execution_count": 19
        }
      ]
    },
    {
      "cell_type": "code",
      "source": [
        "#Split the data into train and test split\n",
        "training_size = int(len(df_close) * 0.75)\n",
        "test_size = len(df_close) - training_size\n",
        "train_data, test_data = df_close[0:training_size,:], df_close[training_size:len(df_close),:1]"
      ],
      "metadata": {
        "id": "6GoeZbqhVDLj"
      },
      "execution_count": 20,
      "outputs": []
    },
    {
      "cell_type": "code",
      "source": [
        "def create_dataset(dataset, time_step = 1):\n",
        "    dataX, dataY = [], []\n",
        "    for i in range(len(dataset) - time_step - 1):\n",
        "        a = dataset[i:(i+time_step), 0]\n",
        "        dataX.append(a)\n",
        "        dataY.append(dataset[i+time_step, 0])\n",
        "    return np.array(dataX), np.array(dataY)"
      ],
      "metadata": {
        "id": "oxSImU6YVF2p"
      },
      "execution_count": 21,
      "outputs": []
    },
    {
      "cell_type": "code",
      "source": [
        "time_step = 100\n",
        "x_train, y_train = create_dataset(train_data, time_step)\n",
        "x_test, y_test = create_dataset(test_data, time_step)"
      ],
      "metadata": {
        "id": "JZVs0VpSVF5o"
      },
      "execution_count": 22,
      "outputs": []
    },
    {
      "cell_type": "code",
      "source": [
        "#Reshape the input to be [samples, time steps, features] which is the requirement of LSTM\n",
        "x_train = x_train.reshape(x_train.shape[0], x_train.shape[1], 1)\n",
        "x_test = x_test.reshape(x_test.shape[0], x_test.shape[1], 1)"
      ],
      "metadata": {
        "id": "aS8EbRflVF9E"
      },
      "execution_count": 23,
      "outputs": []
    },
    {
      "cell_type": "code",
      "source": [
        "#Create the LSTM Model\n",
        "model = Sequential()\n",
        "model.add(LSTM(50, return_sequences = True, input_shape = (100,1)))\n",
        "model.add(LSTM(50, return_sequences = True))\n",
        "model.add(LSTM(50))\n",
        "model.add(Dense(1))\n",
        "model.compile(loss = 'mean_squared_error', optimizer = 'adam')"
      ],
      "metadata": {
        "id": "i2QgUOJSVDPB"
      },
      "execution_count": 24,
      "outputs": []
    },
    {
      "cell_type": "code",
      "source": [
        "model.summary()"
      ],
      "metadata": {
        "colab": {
          "base_uri": "https://localhost:8080/"
        },
        "id": "qS5_eY4xVbDF",
        "outputId": "ff32ca0a-efed-426c-8101-82600ba57de9"
      },
      "execution_count": 25,
      "outputs": [
        {
          "output_type": "stream",
          "name": "stdout",
          "text": [
            "Model: \"sequential\"\n",
            "_________________________________________________________________\n",
            "Layer (type)                 Output Shape              Param #   \n",
            "=================================================================\n",
            "lstm (LSTM)                  (None, 100, 50)           10400     \n",
            "_________________________________________________________________\n",
            "lstm_1 (LSTM)                (None, 100, 50)           20200     \n",
            "_________________________________________________________________\n",
            "lstm_2 (LSTM)                (None, 50)                20200     \n",
            "_________________________________________________________________\n",
            "dense (Dense)                (None, 1)                 51        \n",
            "=================================================================\n",
            "Total params: 50,851\n",
            "Trainable params: 50,851\n",
            "Non-trainable params: 0\n",
            "_________________________________________________________________\n"
          ]
        }
      ]
    },
    {
      "cell_type": "code",
      "source": [
        "model.fit(x_train, y_train, validation_data = (x_test, y_test), epochs = 100, batch_size = 64, verbose = 1)"
      ],
      "metadata": {
        "colab": {
          "base_uri": "https://localhost:8080/"
        },
        "id": "hsqGPf1UVbF1",
        "outputId": "492b8281-fc98-431b-8fbb-fc37cadea04f"
      },
      "execution_count": 27,
      "outputs": [
        {
          "output_type": "stream",
          "name": "stdout",
          "text": [
            "Epoch 1/100\n",
            "23/23 [==============================] - 22s 538ms/step - loss: 0.0262 - val_loss: 0.0068\n",
            "Epoch 2/100\n",
            "23/23 [==============================] - 11s 493ms/step - loss: 0.0026 - val_loss: 7.2653e-04\n",
            "Epoch 3/100\n",
            "23/23 [==============================] - 11s 493ms/step - loss: 0.0015 - val_loss: 0.0011\n",
            "Epoch 4/100\n",
            "23/23 [==============================] - 11s 489ms/step - loss: 0.0014 - val_loss: 8.8706e-04\n",
            "Epoch 5/100\n",
            "23/23 [==============================] - 11s 471ms/step - loss: 0.0014 - val_loss: 0.0011\n",
            "Epoch 6/100\n",
            "23/23 [==============================] - 12s 509ms/step - loss: 0.0013 - val_loss: 9.0896e-04\n",
            "Epoch 7/100\n",
            "23/23 [==============================] - 11s 466ms/step - loss: 0.0013 - val_loss: 0.0011\n",
            "Epoch 8/100\n",
            "23/23 [==============================] - 11s 492ms/step - loss: 0.0012 - val_loss: 9.3692e-04\n",
            "Epoch 9/100\n",
            "23/23 [==============================] - 11s 479ms/step - loss: 0.0012 - val_loss: 0.0013\n",
            "Epoch 10/100\n",
            "23/23 [==============================] - 11s 473ms/step - loss: 0.0012 - val_loss: 9.7282e-04\n",
            "Epoch 11/100\n",
            "23/23 [==============================] - 11s 478ms/step - loss: 0.0012 - val_loss: 9.1805e-04\n",
            "Epoch 12/100\n",
            "23/23 [==============================] - 11s 467ms/step - loss: 0.0011 - val_loss: 9.2338e-04\n",
            "Epoch 13/100\n",
            "23/23 [==============================] - 11s 480ms/step - loss: 0.0010 - val_loss: 7.9423e-04\n",
            "Epoch 14/100\n",
            "23/23 [==============================] - 11s 481ms/step - loss: 9.3669e-04 - val_loss: 8.8830e-04\n",
            "Epoch 15/100\n",
            "23/23 [==============================] - 11s 463ms/step - loss: 9.1680e-04 - val_loss: 7.8601e-04\n",
            "Epoch 16/100\n",
            "23/23 [==============================] - 10s 427ms/step - loss: 9.4001e-04 - val_loss: 7.4631e-04\n",
            "Epoch 17/100\n",
            "23/23 [==============================] - 11s 467ms/step - loss: 8.9188e-04 - val_loss: 6.4185e-04\n",
            "Epoch 18/100\n",
            "23/23 [==============================] - 11s 467ms/step - loss: 0.0010 - val_loss: 7.4481e-04\n",
            "Epoch 19/100\n",
            "23/23 [==============================] - 11s 478ms/step - loss: 7.9582e-04 - val_loss: 7.1315e-04\n",
            "Epoch 20/100\n",
            "23/23 [==============================] - 11s 473ms/step - loss: 7.5103e-04 - val_loss: 7.3180e-04\n",
            "Epoch 21/100\n",
            "23/23 [==============================] - 11s 484ms/step - loss: 7.4709e-04 - val_loss: 6.3896e-04\n",
            "Epoch 22/100\n",
            "23/23 [==============================] - 11s 461ms/step - loss: 7.2829e-04 - val_loss: 5.8944e-04\n",
            "Epoch 23/100\n",
            "23/23 [==============================] - 10s 458ms/step - loss: 7.2002e-04 - val_loss: 6.8758e-04\n",
            "Epoch 24/100\n",
            "23/23 [==============================] - 10s 458ms/step - loss: 7.4372e-04 - val_loss: 9.4766e-04\n",
            "Epoch 25/100\n",
            "23/23 [==============================] - 10s 421ms/step - loss: 7.8162e-04 - val_loss: 7.8825e-04\n",
            "Epoch 26/100\n",
            "23/23 [==============================] - 11s 460ms/step - loss: 6.7425e-04 - val_loss: 5.7665e-04\n",
            "Epoch 27/100\n",
            "23/23 [==============================] - 12s 505ms/step - loss: 6.4221e-04 - val_loss: 7.2750e-04\n",
            "Epoch 28/100\n",
            "23/23 [==============================] - 11s 468ms/step - loss: 6.8474e-04 - val_loss: 6.0149e-04\n",
            "Epoch 29/100\n",
            "23/23 [==============================] - 11s 479ms/step - loss: 6.3737e-04 - val_loss: 7.7884e-04\n",
            "Epoch 30/100\n",
            "23/23 [==============================] - 11s 477ms/step - loss: 6.1810e-04 - val_loss: 5.3944e-04\n",
            "Epoch 31/100\n",
            "23/23 [==============================] - 11s 462ms/step - loss: 6.1597e-04 - val_loss: 7.9507e-04\n",
            "Epoch 32/100\n",
            "23/23 [==============================] - 11s 463ms/step - loss: 6.5967e-04 - val_loss: 6.4685e-04\n",
            "Epoch 33/100\n",
            "23/23 [==============================] - 11s 474ms/step - loss: 6.0178e-04 - val_loss: 8.7303e-04\n",
            "Epoch 34/100\n",
            "23/23 [==============================] - 12s 510ms/step - loss: 6.0435e-04 - val_loss: 8.5757e-04\n",
            "Epoch 35/100\n",
            "23/23 [==============================] - 10s 414ms/step - loss: 5.8611e-04 - val_loss: 5.9975e-04\n",
            "Epoch 36/100\n",
            "23/23 [==============================] - 11s 469ms/step - loss: 5.5164e-04 - val_loss: 8.3679e-04\n",
            "Epoch 37/100\n",
            "23/23 [==============================] - 11s 468ms/step - loss: 5.8159e-04 - val_loss: 4.9663e-04\n",
            "Epoch 38/100\n",
            "23/23 [==============================] - 11s 476ms/step - loss: 5.5206e-04 - val_loss: 6.0767e-04\n",
            "Epoch 39/100\n",
            "23/23 [==============================] - 11s 471ms/step - loss: 5.6786e-04 - val_loss: 6.2861e-04\n",
            "Epoch 40/100\n",
            "23/23 [==============================] - 10s 458ms/step - loss: 5.1596e-04 - val_loss: 6.9436e-04\n",
            "Epoch 41/100\n",
            "23/23 [==============================] - 11s 471ms/step - loss: 4.7264e-04 - val_loss: 6.8636e-04\n",
            "Epoch 42/100\n",
            "23/23 [==============================] - 11s 474ms/step - loss: 4.5509e-04 - val_loss: 6.4294e-04\n",
            "Epoch 43/100\n",
            "23/23 [==============================] - 11s 483ms/step - loss: 4.6421e-04 - val_loss: 6.1126e-04\n",
            "Epoch 44/100\n",
            "23/23 [==============================] - 10s 438ms/step - loss: 4.5729e-04 - val_loss: 5.3517e-04\n",
            "Epoch 45/100\n",
            "23/23 [==============================] - 10s 440ms/step - loss: 4.5001e-04 - val_loss: 3.2480e-04\n",
            "Epoch 46/100\n",
            "23/23 [==============================] - 11s 477ms/step - loss: 5.0037e-04 - val_loss: 4.2445e-04\n",
            "Epoch 47/100\n",
            "23/23 [==============================] - 11s 469ms/step - loss: 4.3122e-04 - val_loss: 7.4052e-04\n",
            "Epoch 48/100\n",
            "23/23 [==============================] - 11s 487ms/step - loss: 4.3988e-04 - val_loss: 5.1866e-04\n",
            "Epoch 49/100\n",
            "23/23 [==============================] - 12s 512ms/step - loss: 3.7878e-04 - val_loss: 4.8604e-04\n",
            "Epoch 50/100\n",
            "23/23 [==============================] - 11s 472ms/step - loss: 3.7280e-04 - val_loss: 3.9622e-04\n",
            "Epoch 51/100\n",
            "23/23 [==============================] - 11s 473ms/step - loss: 3.7509e-04 - val_loss: 4.5606e-04\n",
            "Epoch 52/100\n",
            "23/23 [==============================] - 11s 463ms/step - loss: 3.8126e-04 - val_loss: 3.6867e-04\n",
            "Epoch 53/100\n",
            "23/23 [==============================] - 11s 459ms/step - loss: 4.9110e-04 - val_loss: 3.0350e-04\n",
            "Epoch 54/100\n",
            "23/23 [==============================] - 10s 434ms/step - loss: 3.6842e-04 - val_loss: 3.5648e-04\n",
            "Epoch 55/100\n",
            "23/23 [==============================] - 11s 473ms/step - loss: 3.3948e-04 - val_loss: 3.4968e-04\n",
            "Epoch 56/100\n",
            "23/23 [==============================] - 11s 470ms/step - loss: 3.3612e-04 - val_loss: 3.1231e-04\n",
            "Epoch 57/100\n",
            "23/23 [==============================] - 11s 475ms/step - loss: 3.2537e-04 - val_loss: 3.0141e-04\n",
            "Epoch 58/100\n",
            "23/23 [==============================] - 11s 463ms/step - loss: 3.3659e-04 - val_loss: 2.6818e-04\n",
            "Epoch 59/100\n",
            "23/23 [==============================] - 11s 470ms/step - loss: 2.9593e-04 - val_loss: 2.9977e-04\n",
            "Epoch 60/100\n",
            "23/23 [==============================] - 11s 474ms/step - loss: 3.0436e-04 - val_loss: 3.3848e-04\n",
            "Epoch 61/100\n",
            "23/23 [==============================] - 11s 470ms/step - loss: 2.9766e-04 - val_loss: 2.4725e-04\n",
            "Epoch 62/100\n",
            "23/23 [==============================] - 11s 473ms/step - loss: 3.1591e-04 - val_loss: 2.4514e-04\n",
            "Epoch 63/100\n",
            "23/23 [==============================] - 10s 426ms/step - loss: 3.0570e-04 - val_loss: 2.4894e-04\n",
            "Epoch 64/100\n",
            "23/23 [==============================] - 14s 629ms/step - loss: 2.9939e-04 - val_loss: 2.3767e-04\n",
            "Epoch 65/100\n",
            "23/23 [==============================] - 10s 429ms/step - loss: 2.8518e-04 - val_loss: 2.5318e-04\n",
            "Epoch 66/100\n",
            "23/23 [==============================] - 11s 467ms/step - loss: 2.6813e-04 - val_loss: 2.8337e-04\n",
            "Epoch 67/100\n",
            "23/23 [==============================] - 11s 470ms/step - loss: 2.9093e-04 - val_loss: 2.9432e-04\n",
            "Epoch 68/100\n",
            "23/23 [==============================] - 11s 467ms/step - loss: 2.7765e-04 - val_loss: 3.1378e-04\n",
            "Epoch 69/100\n",
            "23/23 [==============================] - 11s 481ms/step - loss: 2.6518e-04 - val_loss: 2.8112e-04\n",
            "Epoch 70/100\n",
            "23/23 [==============================] - 11s 496ms/step - loss: 2.7280e-04 - val_loss: 2.7741e-04\n",
            "Epoch 71/100\n",
            "23/23 [==============================] - 11s 475ms/step - loss: 2.7075e-04 - val_loss: 2.2224e-04\n",
            "Epoch 72/100\n",
            "23/23 [==============================] - 11s 466ms/step - loss: 2.6603e-04 - val_loss: 2.0866e-04\n",
            "Epoch 73/100\n",
            "23/23 [==============================] - 11s 472ms/step - loss: 2.7195e-04 - val_loss: 1.9512e-04\n",
            "Epoch 74/100\n",
            "23/23 [==============================] - 11s 469ms/step - loss: 2.9716e-04 - val_loss: 2.8051e-04\n",
            "Epoch 75/100\n",
            "23/23 [==============================] - 10s 441ms/step - loss: 2.7740e-04 - val_loss: 2.7530e-04\n",
            "Epoch 76/100\n",
            "23/23 [==============================] - 11s 449ms/step - loss: 2.5775e-04 - val_loss: 2.6380e-04\n",
            "Epoch 77/100\n",
            "23/23 [==============================] - 11s 468ms/step - loss: 2.2619e-04 - val_loss: 1.8192e-04\n",
            "Epoch 78/100\n",
            "23/23 [==============================] - 11s 473ms/step - loss: 2.3990e-04 - val_loss: 1.8715e-04\n",
            "Epoch 79/100\n",
            "23/23 [==============================] - 12s 512ms/step - loss: 3.3860e-04 - val_loss: 2.4154e-04\n",
            "Epoch 80/100\n",
            "23/23 [==============================] - 11s 470ms/step - loss: 2.3393e-04 - val_loss: 2.0971e-04\n",
            "Epoch 81/100\n",
            "23/23 [==============================] - 11s 477ms/step - loss: 2.3558e-04 - val_loss: 2.4868e-04\n",
            "Epoch 82/100\n",
            "23/23 [==============================] - 11s 473ms/step - loss: 2.2329e-04 - val_loss: 1.9541e-04\n",
            "Epoch 83/100\n",
            "23/23 [==============================] - 11s 477ms/step - loss: 2.4888e-04 - val_loss: 2.9378e-04\n",
            "Epoch 84/100\n",
            "23/23 [==============================] - 11s 469ms/step - loss: 2.2895e-04 - val_loss: 2.7274e-04\n",
            "Epoch 85/100\n",
            "23/23 [==============================] - 10s 445ms/step - loss: 2.2325e-04 - val_loss: 2.1881e-04\n",
            "Epoch 86/100\n",
            "23/23 [==============================] - 11s 459ms/step - loss: 2.2367e-04 - val_loss: 1.7679e-04\n",
            "Epoch 87/100\n",
            "23/23 [==============================] - 11s 467ms/step - loss: 2.2944e-04 - val_loss: 1.6399e-04\n",
            "Epoch 88/100\n",
            "23/23 [==============================] - 11s 479ms/step - loss: 2.5217e-04 - val_loss: 2.2870e-04\n",
            "Epoch 89/100\n",
            "23/23 [==============================] - 11s 475ms/step - loss: 2.1401e-04 - val_loss: 2.0082e-04\n",
            "Epoch 90/100\n",
            "23/23 [==============================] - 11s 477ms/step - loss: 2.3921e-04 - val_loss: 2.0609e-04\n",
            "Epoch 91/100\n",
            "23/23 [==============================] - 11s 469ms/step - loss: 2.0481e-04 - val_loss: 1.7197e-04\n",
            "Epoch 92/100\n",
            "23/23 [==============================] - 12s 512ms/step - loss: 2.0866e-04 - val_loss: 1.5627e-04\n",
            "Epoch 93/100\n",
            "23/23 [==============================] - 11s 465ms/step - loss: 2.5705e-04 - val_loss: 1.9016e-04\n",
            "Epoch 94/100\n",
            "23/23 [==============================] - 11s 480ms/step - loss: 2.1520e-04 - val_loss: 1.5637e-04\n",
            "Epoch 95/100\n",
            "23/23 [==============================] - 10s 441ms/step - loss: 2.0721e-04 - val_loss: 1.7539e-04\n",
            "Epoch 96/100\n",
            "23/23 [==============================] - 10s 433ms/step - loss: 1.9860e-04 - val_loss: 2.5459e-04\n",
            "Epoch 97/100\n",
            "23/23 [==============================] - 11s 485ms/step - loss: 2.2922e-04 - val_loss: 2.2678e-04\n",
            "Epoch 98/100\n",
            "23/23 [==============================] - 11s 482ms/step - loss: 2.6152e-04 - val_loss: 1.5931e-04\n",
            "Epoch 99/100\n",
            "23/23 [==============================] - 11s 468ms/step - loss: 2.3171e-04 - val_loss: 2.0148e-04\n",
            "Epoch 100/100\n",
            "23/23 [==============================] - 11s 470ms/step - loss: 1.9902e-04 - val_loss: 2.0568e-04\n"
          ]
        },
        {
          "output_type": "execute_result",
          "data": {
            "text/plain": [
              "<tensorflow.python.keras.callbacks.History at 0x7ed308489ff0>"
            ]
          },
          "metadata": {},
          "execution_count": 27
        }
      ]
    },
    {
      "cell_type": "code",
      "source": [
        "#Lets predict and check performance metrics\n",
        "train_predict = model.predict(x_train)\n",
        "test_predict = model.predict(x_test)\n",
        "\n"
      ],
      "metadata": {
        "id": "XyrFM_dCVbJP"
      },
      "execution_count": 31,
      "outputs": []
    },
    {
      "cell_type": "code",
      "source": [
        "#Transform back to original form\n",
        "train_predict = scaler.inverse_transform(train_predict)\n",
        "test_predict = scaler.inverse_transform(test_predict)"
      ],
      "metadata": {
        "id": "yj5P7z2yWKRE"
      },
      "execution_count": 32,
      "outputs": []
    },
    {
      "cell_type": "code",
      "source": [
        "#Calculate RMSE performance metrics\n",
        "math.sqrt(mean_squared_error(y_train, train_predict))"
      ],
      "metadata": {
        "colab": {
          "base_uri": "https://localhost:8080/"
        },
        "id": "vetKfZ88WKUn",
        "outputId": "4a90c861-36ae-4f8b-b076-e0baa09cd0cc"
      },
      "execution_count": 33,
      "outputs": [
        {
          "output_type": "execute_result",
          "data": {
            "text/plain": [
              "163.89224311789934"
            ]
          },
          "metadata": {},
          "execution_count": 33
        }
      ]
    },
    {
      "cell_type": "code",
      "source": [
        "#Test Data RMSE\n",
        "math.sqrt(mean_squared_error(y_test, test_predict))"
      ],
      "metadata": {
        "colab": {
          "base_uri": "https://localhost:8080/"
        },
        "id": "DZiPQdGUWPTi",
        "outputId": "44667935-44b6-4477-fbac-599f4dfc55a3"
      },
      "execution_count": 34,
      "outputs": [
        {
          "output_type": "execute_result",
          "data": {
            "text/plain": [
              "106.15516904426086"
            ]
          },
          "metadata": {},
          "execution_count": 34
        }
      ]
    },
    {
      "cell_type": "code",
      "source": [
        "#Plotting\n",
        "\n",
        "#Shift train prediction for plotting\n",
        "look_back = 100\n",
        "trainPredictPlot = np.empty_like(df_close)\n",
        "trainPredictPlot[:,:] = np.nan\n",
        "trainPredictPlot[look_back:len(train_predict) + look_back, :] = train_predict\n",
        "\n",
        "#Shift test prediction for plotting\n",
        "testPredictPlot = np.empty_like(df_close)\n",
        "testPredictPlot[:,:] = np.nan\n",
        "testPredictPlot[len(train_predict) + (look_back * 2)+1:len(df_close) - 1, :] = test_predict\n",
        "\n",
        "#Plot baseline and predictions\n",
        "plt.plot(scaler.inverse_transform(df_close))\n",
        "plt.plot(trainPredictPlot)\n",
        "plt.plot(testPredictPlot)\n",
        "plt.show()"
      ],
      "metadata": {
        "colab": {
          "base_uri": "https://localhost:8080/",
          "height": 430
        },
        "id": "5cqo_A3cWPXD",
        "outputId": "08580f1c-de39-4f97-8f9e-ea7eeaae53c6"
      },
      "execution_count": 35,
      "outputs": [
        {
          "output_type": "display_data",
          "data": {
            "text/plain": [
              "<Figure size 640x480 with 1 Axes>"
            ],
            "image/png": "[encoded data removed]"
          },
          "metadata": {}
        }
      ]
    },
    {
      "cell_type": "markdown",
      "source": [
        "**Predict the next 30 days Stock Price**"
      ],
      "metadata": {
        "id": "LuMExZRaWb6h"
      }
    },
    {
      "cell_type": "code",
      "source": [
        "len(test_data), x_test.shape"
      ],
      "metadata": {
        "colab": {
          "base_uri": "https://localhost:8080/"
        },
        "id": "DXEX7a0OWPaC",
        "outputId": "b446ff6f-558b-4323-accd-3e289c801e79"
      },
      "execution_count": 36,
      "outputs": [
        {
          "output_type": "execute_result",
          "data": {
            "text/plain": [
              "(509, (408, 100, 1))"
            ]
          },
          "metadata": {},
          "execution_count": 36
        }
      ]
    },
    {
      "cell_type": "code",
      "source": [
        "x_input = test_data[207:].reshape(1,-1)\n",
        "x_input.shape"
      ],
      "metadata": {
        "colab": {
          "base_uri": "https://localhost:8080/"
        },
        "id": "dYxFmdJGWj5p",
        "outputId": "8f33665f-30ec-4ecb-af10-d2aaaf7fe6df"
      },
      "execution_count": 37,
      "outputs": [
        {
          "output_type": "execute_result",
          "data": {
            "text/plain": [
              "(1, 302)"
            ]
          },
          "metadata": {},
          "execution_count": 37
        }
      ]
    },
    {
      "cell_type": "code",
      "source": [
        "temp_input = list(x_input)\n",
        "temp_input = temp_input[0].tolist()"
      ],
      "metadata": {
        "id": "KNMtPTqBWj9T"
      },
      "execution_count": 38,
      "outputs": []
    },
    {
      "cell_type": "code",
      "source": [
        "lst_output = []\n",
        "n_steps = 100\n",
        "nextNumberOfDays = 30\n",
        "i = 0\n",
        "\n",
        "while i < nextNumberOfDays:\n",
        "    if len(temp_input) > n_steps:\n",
        "        x_input = np.array(temp_input[-n_steps:])  # Select the last n_steps elements\n",
        "        x_input = x_input.reshape((1, n_steps, 1))\n",
        "        yhat = model.predict(x_input, verbose=0)\n",
        "        temp_input.extend(yhat[0].tolist())\n",
        "        lst_output.extend(yhat.tolist())\n",
        "        i += 1\n",
        "    else:\n",
        "        x_input = x_input.reshape((1, n_steps, 1))\n",
        "        yhat = model.predict(x_input, verbose=0)\n",
        "        temp_input.extend(yhat[0].tolist())\n",
        "        lst_output.extend(yhat.tolist())\n",
        "        i += 1\n",
        "\n",
        "print(lst_output)\n"
      ],
      "metadata": {
        "colab": {
          "base_uri": "https://localhost:8080/"
        },
        "id": "pQLNd92-WkAc",
        "outputId": "9f30a3bc-bfd7-4afb-e4d0-7a97856b78db"
      },
      "execution_count": 44,
      "outputs": [
        {
          "output_type": "stream",
          "name": "stdout",
          "text": [
            "[[0.16827934980392456], [0.17110575735569], [0.17356663942337036], [0.1758636236190796], [0.178049236536026], [0.18014860153198242], [0.18218429386615753], [0.18417616188526154], [0.18613994121551514], [0.18808689713478088], [0.19002415239810944], [0.19195516407489777], [0.19388101994991302], [0.19580087065696716], [0.19771283864974976], [0.19961465895175934], [0.20150402188301086], [0.2033790946006775], [0.20523835718631744], [0.20708109438419342], [0.2089068442583084], [0.21071593463420868], [0.21250884234905243], [0.21428637206554413], [0.21604962646961212], [0.21779939532279968], [0.21953687071800232], [0.22126296162605286], [0.2229785919189453], [0.22468456625938416]]\n"
          ]
        }
      ]
    },
    {
      "cell_type": "code",
      "source": [
        "day_new = np.arange(1,101)\n",
        "day_pred = np.arange(101,131)"
      ],
      "metadata": {
        "id": "r2rKLX2_WPc7"
      },
      "execution_count": 40,
      "outputs": []
    },
    {
      "cell_type": "code",
      "source": [
        "df3 = df_close.tolist()\n",
        "df3.extend(lst_output)"
      ],
      "metadata": {
        "id": "uMUUfH_rWPgh"
      },
      "execution_count": 41,
      "outputs": []
    },
    {
      "cell_type": "code",
      "source": [
        "len(df_close)"
      ],
      "metadata": {
        "colab": {
          "base_uri": "https://localhost:8080/"
        },
        "id": "Kn8H2H8kWvI0",
        "outputId": "b30ad4fd-0263-420d-e9e2-be012b2a7eb6"
      },
      "execution_count": 42,
      "outputs": [
        {
          "output_type": "execute_result",
          "data": {
            "text/plain": [
              "2035"
            ]
          },
          "metadata": {},
          "execution_count": 42
        }
      ]
    },
    {
      "cell_type": "code",
      "source": [
        "plt.plot(day_new[:100], scaler.inverse_transform(df_close[1128:1228]))\n",
        "plt.plot(day_pred[:100], scaler.inverse_transform(lst_output))\n",
        "\n"
      ],
      "metadata": {
        "colab": {
          "base_uri": "https://localhost:8080/",
          "height": 447
        },
        "id": "Sm9KQPrcWvMS",
        "outputId": "2ef7870c-b35f-4d2d-a8af-f271d3a7bfa4"
      },
      "execution_count": 47,
      "outputs": [
        {
          "output_type": "execute_result",
          "data": {
            "text/plain": [
              "[<matplotlib.lines.Line2D at 0x7ed2f7fcfca0>]"
            ]
          },
          "metadata": {},
          "execution_count": 47
        },
        {
          "output_type": "display_data",
          "data": {
            "text/plain": [
              "<Figure size 640x480 with 1 Axes>"
            ],
            "image/png": "[encoded data removed]"
          },
          "metadata": {}
        }
      ]
    }
  ]
}